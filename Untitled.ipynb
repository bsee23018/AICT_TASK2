{
 "cells": [
  {
   "cell_type": "code",
   "execution_count": 1,
   "id": "9e0ede94-3b89-4a79-a9e1-c4ca193f6b3d",
   "metadata": {},
   "outputs": [],
   "source": [
    "import numpy as np\n",
    "import pandas as pd"
   ]
  },
  {
   "cell_type": "markdown",
   "id": "f1ed09c4-9605-4bf5-a60c-9b7e623451c7",
   "metadata": {},
   "source": [
    "# Question 1  pandas series code to get following output without using dictionary:"
   ]
  },
  {
   "cell_type": "code",
   "execution_count": 2,
   "id": "3db18939-f0db-411f-83f9-c8773e69ce73",
   "metadata": {},
   "outputs": [],
   "source": [
    "code = [1,4,9,6,7]\n",
    "indexing = {'a','x','c','2','e'}"
   ]
  },
  {
   "cell_type": "code",
   "execution_count": 3,
   "id": "6cc4eb39-f861-4549-862e-219552b20685",
   "metadata": {},
   "outputs": [],
   "source": [
    "printing = pd.Series(code , index = indexing , dtype = int)"
   ]
  },
  {
   "cell_type": "code",
   "execution_count": 4,
   "id": "bf7b817f-2ef6-420a-9f91-4c8e0283acf2",
   "metadata": {},
   "outputs": [
    {
     "data": {
      "text/plain": [
       "c    1\n",
       "a    4\n",
       "2    9\n",
       "e    6\n",
       "x    7\n",
       "dtype: int32"
      ]
     },
     "execution_count": 4,
     "metadata": {},
     "output_type": "execute_result"
    }
   ],
   "source": [
    "printing\n"
   ]
  },
  {
   "cell_type": "markdown",
   "id": "91481e2f-8bab-4e87-97ad-a608ac858c0a",
   "metadata": {},
   "source": [
    "# Question 2 Writer pandas series code to get following output using dictionary:"
   ]
  },
  {
   "cell_type": "code",
   "execution_count": 5,
   "id": "4d246be9-59ae-40ac-9731-a32b5e106cd1",
   "metadata": {},
   "outputs": [],
   "source": [
    "dictt = {\n",
    "        'bilal':42, 'Ayesha':38, 'Hadia':39\n",
    "        # \"name\" : ['Bilal','Ayesha','Hadia'],\n",
    "        # \"marks\": [42,38,39]    \n",
    "}"
   ]
  },
  {
   "cell_type": "code",
   "execution_count": 6,
   "id": "d1e44418-c455-4b9d-8b60-963fa31fc3c7",
   "metadata": {},
   "outputs": [],
   "source": [
    "Que2 = pd.Series(dictt)"
   ]
  },
  {
   "cell_type": "code",
   "execution_count": 7,
   "id": "0f7f3190-4eca-46eb-8a90-6db92e51a908",
   "metadata": {},
   "outputs": [
    {
     "data": {
      "text/plain": [
       "bilal     42\n",
       "Ayesha    38\n",
       "Hadia     39\n",
       "dtype: int64"
      ]
     },
     "execution_count": 7,
     "metadata": {},
     "output_type": "execute_result"
    }
   ],
   "source": [
    "Que2"
   ]
  },
  {
   "cell_type": "markdown",
   "id": "0be2da72-12c1-4298-9621-df9f04bb26c6",
   "metadata": {},
   "source": [
    "# Question 3 Write pandas dataframe code to get following output using python dictionary"
   ]
  },
  {
   "cell_type": "code",
   "execution_count": 8,
   "id": "3922b11c-b01d-4d68-a8af-4a44539ceba3",
   "metadata": {},
   "outputs": [],
   "source": [
    "dict1 = {\n",
    "    \n",
    "    \"day\" : ['1/2/2022','1/3/2022','1/3/2022','1/4/2022' ], \n",
    "    \"temperature\" :[24,35,40,15], \n",
    "    \"wind_speed\" :[9,5,2,3], \n",
    "    \"Event\" : ['Rainy','snowy','summer','moonsoon'] \n",
    "}"
   ]
  },
  {
   "cell_type": "code",
   "execution_count": 9,
   "id": "0e4e83e4-6548-4f21-a30f-46ae2bcc6b57",
   "metadata": {},
   "outputs": [],
   "source": [
    "df = pd.DataFrame(dict1)"
   ]
  },
  {
   "cell_type": "code",
   "execution_count": 10,
   "id": "6d464697-23fc-44ab-80b1-0ea6d766961b",
   "metadata": {},
   "outputs": [
    {
     "data": {
      "text/html": [
       "<div>\n",
       "<style scoped>\n",
       "    .dataframe tbody tr th:only-of-type {\n",
       "        vertical-align: middle;\n",
       "    }\n",
       "\n",
       "    .dataframe tbody tr th {\n",
       "        vertical-align: top;\n",
       "    }\n",
       "\n",
       "    .dataframe thead th {\n",
       "        text-align: right;\n",
       "    }\n",
       "</style>\n",
       "<table border=\"1\" class=\"dataframe\">\n",
       "  <thead>\n",
       "    <tr style=\"text-align: right;\">\n",
       "      <th></th>\n",
       "      <th>day</th>\n",
       "      <th>temperature</th>\n",
       "      <th>wind_speed</th>\n",
       "      <th>Event</th>\n",
       "    </tr>\n",
       "  </thead>\n",
       "  <tbody>\n",
       "    <tr>\n",
       "      <th>0</th>\n",
       "      <td>1/2/2022</td>\n",
       "      <td>24</td>\n",
       "      <td>9</td>\n",
       "      <td>Rainy</td>\n",
       "    </tr>\n",
       "    <tr>\n",
       "      <th>1</th>\n",
       "      <td>1/3/2022</td>\n",
       "      <td>35</td>\n",
       "      <td>5</td>\n",
       "      <td>snowy</td>\n",
       "    </tr>\n",
       "    <tr>\n",
       "      <th>2</th>\n",
       "      <td>1/3/2022</td>\n",
       "      <td>40</td>\n",
       "      <td>2</td>\n",
       "      <td>summer</td>\n",
       "    </tr>\n",
       "    <tr>\n",
       "      <th>3</th>\n",
       "      <td>1/4/2022</td>\n",
       "      <td>15</td>\n",
       "      <td>3</td>\n",
       "      <td>moonsoon</td>\n",
       "    </tr>\n",
       "  </tbody>\n",
       "</table>\n",
       "</div>"
      ],
      "text/plain": [
       "        day  temperature  wind_speed     Event\n",
       "0  1/2/2022           24           9     Rainy\n",
       "1  1/3/2022           35           5     snowy\n",
       "2  1/3/2022           40           2    summer\n",
       "3  1/4/2022           15           3  moonsoon"
      ]
     },
     "execution_count": 10,
     "metadata": {},
     "output_type": "execute_result"
    }
   ],
   "source": [
    "df"
   ]
  },
  {
   "cell_type": "markdown",
   "id": "0abbd502-d99a-4400-abae-6a3c2ad6a616",
   "metadata": {},
   "source": [
    "# Question 4  In extension to above question, you are required to replace index by ['a','b','c','d','e','f'"
   ]
  },
  {
   "cell_type": "code",
   "execution_count": 11,
   "id": "d080b9ea-a59b-472b-9240-f7a4153bf8e3",
   "metadata": {},
   "outputs": [],
   "source": [
    "indexx = ['a','b','c','d']"
   ]
  },
  {
   "cell_type": "code",
   "execution_count": 12,
   "id": "123cbff6-a571-476d-a02e-608038f0aaa3",
   "metadata": {},
   "outputs": [],
   "source": [
    "df.index = indexx"
   ]
  },
  {
   "cell_type": "code",
   "execution_count": 13,
   "id": "4336aba6-d7ba-4c50-b590-0236a8a20ddc",
   "metadata": {},
   "outputs": [
    {
     "data": {
      "text/html": [
       "<div>\n",
       "<style scoped>\n",
       "    .dataframe tbody tr th:only-of-type {\n",
       "        vertical-align: middle;\n",
       "    }\n",
       "\n",
       "    .dataframe tbody tr th {\n",
       "        vertical-align: top;\n",
       "    }\n",
       "\n",
       "    .dataframe thead th {\n",
       "        text-align: right;\n",
       "    }\n",
       "</style>\n",
       "<table border=\"1\" class=\"dataframe\">\n",
       "  <thead>\n",
       "    <tr style=\"text-align: right;\">\n",
       "      <th></th>\n",
       "      <th>day</th>\n",
       "      <th>temperature</th>\n",
       "      <th>wind_speed</th>\n",
       "      <th>Event</th>\n",
       "    </tr>\n",
       "  </thead>\n",
       "  <tbody>\n",
       "    <tr>\n",
       "      <th>a</th>\n",
       "      <td>1/2/2022</td>\n",
       "      <td>24</td>\n",
       "      <td>9</td>\n",
       "      <td>Rainy</td>\n",
       "    </tr>\n",
       "    <tr>\n",
       "      <th>b</th>\n",
       "      <td>1/3/2022</td>\n",
       "      <td>35</td>\n",
       "      <td>5</td>\n",
       "      <td>snowy</td>\n",
       "    </tr>\n",
       "    <tr>\n",
       "      <th>c</th>\n",
       "      <td>1/3/2022</td>\n",
       "      <td>40</td>\n",
       "      <td>2</td>\n",
       "      <td>summer</td>\n",
       "    </tr>\n",
       "    <tr>\n",
       "      <th>d</th>\n",
       "      <td>1/4/2022</td>\n",
       "      <td>15</td>\n",
       "      <td>3</td>\n",
       "      <td>moonsoon</td>\n",
       "    </tr>\n",
       "  </tbody>\n",
       "</table>\n",
       "</div>"
      ],
      "text/plain": [
       "        day  temperature  wind_speed     Event\n",
       "a  1/2/2022           24           9     Rainy\n",
       "b  1/3/2022           35           5     snowy\n",
       "c  1/3/2022           40           2    summer\n",
       "d  1/4/2022           15           3  moonsoon"
      ]
     },
     "execution_count": 13,
     "metadata": {},
     "output_type": "execute_result"
    }
   ],
   "source": [
    "df"
   ]
  },
  {
   "cell_type": "markdown",
   "id": "df4b3c0a-23f7-4d3a-a518-5887ae0d5db8",
   "metadata": {},
   "source": [
    "# Question 5 : In extension to above Q.3, calculate mean, miximum and minimum for label “temperature"
   ]
  },
  {
   "cell_type": "code",
   "execution_count": 14,
   "id": "bb785e0d-c6aa-41d2-a424-8f4b250f1930",
   "metadata": {},
   "outputs": [],
   "source": [
    "mean_temperature = df['temperature'].mean()\n",
    "max_temperature = df['temperature'].max()\n",
    "min_temperature = df['temperature'].min()"
   ]
  },
  {
   "cell_type": "code",
   "execution_count": 15,
   "id": "13cb3688-1468-4995-b8f7-28f3dd4a7b0b",
   "metadata": {},
   "outputs": [
    {
     "name": "stdout",
     "output_type": "stream",
     "text": [
      "28.5\n",
      "40\n",
      "15\n"
     ]
    }
   ],
   "source": [
    "print(mean_temperature) \n",
    "print(max_temperature)\n",
    "print(min_temperature)"
   ]
  },
  {
   "cell_type": "markdown",
   "id": "98e41265-1df1-4c97-a3fe-b3c028cd70b6",
   "metadata": {},
   "source": [
    "# Question 6 Import CSV ‘people.csv’ in the given folder. Keep in mind the following instructions"
   ]
  },
  {
   "cell_type": "code",
   "execution_count": 16,
   "id": "0fea223d-0ec4-41f2-8080-1e3d052200c8",
   "metadata": {},
   "outputs": [],
   "source": [
    "cols = [\"First Name\", \"Sex\", \"Email\", \"Phone\", \"Job Title\"]"
   ]
  },
  {
   "cell_type": "code",
   "execution_count": 17,
   "id": "3fd6929d-b5b8-4733-8de4-8c9ea072f938",
   "metadata": {},
   "outputs": [],
   "source": [
    "index_cols = [\"Sex\", \"Job Title\"]"
   ]
  },
  {
   "cell_type": "code",
   "execution_count": 18,
   "id": "93f9b95b-8f55-401a-b6e9-43af4d19ee67",
   "metadata": {},
   "outputs": [],
   "source": [
    "rows_to_skip = [1, 5]"
   ]
  },
  {
   "cell_type": "code",
   "execution_count": 19,
   "id": "1ab66f2f-0af4-4cb5-8008-ca5b2863046a",
   "metadata": {},
   "outputs": [],
   "source": [
    "df = pd.read_csv('people.csv', usecols=cols, skiprows=rows_to_skip)"
   ]
  },
  {
   "cell_type": "code",
   "execution_count": 20,
   "id": "8e109719-d4be-45bd-aaf9-b0ae3851c1f5",
   "metadata": {},
   "outputs": [],
   "source": [
    "#df.set_index(cols, inplace=True)\n",
    "#df.to_csv('NewPeople.csv')"
   ]
  },
  {
   "cell_type": "markdown",
   "id": "781f235e-be90-49ed-aff4-27c878687194",
   "metadata": {},
   "source": [
    "#  Q.7: Import excel sheet ‘SampleWork.xlsx’ in the given folder. Keep in mind the following instructions:\n",
    "# Import sheet 1\n",
    "# Import only first and last column from sheet 1\n",
    "# Skip row 2 while importing the sheet\n",
    "# Set row 2 as header\n",
    "# export as new sheet.\n"
   ]
  },
  {
   "cell_type": "code",
   "execution_count": 22,
   "id": "273edce1-8f7a-4a1d-a9da-6fe931056fac",
   "metadata": {},
   "outputs": [
    {
     "data": {
      "text/html": [
       "<div>\n",
       "<style scoped>\n",
       "    .dataframe tbody tr th:only-of-type {\n",
       "        vertical-align: middle;\n",
       "    }\n",
       "\n",
       "    .dataframe tbody tr th {\n",
       "        vertical-align: top;\n",
       "    }\n",
       "\n",
       "    .dataframe thead th {\n",
       "        text-align: right;\n",
       "    }\n",
       "</style>\n",
       "<table border=\"1\" class=\"dataframe\">\n",
       "  <thead>\n",
       "    <tr style=\"text-align: right;\">\n",
       "      <th></th>\n",
       "      <th>Name</th>\n",
       "    </tr>\n",
       "  </thead>\n",
       "  <tbody>\n",
       "    <tr>\n",
       "      <th>0</th>\n",
       "      <td>Bilal</td>\n",
       "    </tr>\n",
       "    <tr>\n",
       "      <th>1</th>\n",
       "      <td>Sufyan</td>\n",
       "    </tr>\n",
       "    <tr>\n",
       "      <th>2</th>\n",
       "      <td>Saiqa</td>\n",
       "    </tr>\n",
       "    <tr>\n",
       "      <th>3</th>\n",
       "      <td>Aimen</td>\n",
       "    </tr>\n",
       "  </tbody>\n",
       "</table>\n",
       "</div>"
      ],
      "text/plain": [
       "     Name\n",
       "0   Bilal\n",
       "1  Sufyan\n",
       "2   Saiqa\n",
       "3   Aimen"
      ]
     },
     "execution_count": 22,
     "metadata": {},
     "output_type": "execute_result"
    }
   ],
   "source": [
    "df\n"
   ]
  },
  {
   "cell_type": "code",
   "execution_count": null,
   "id": "b48ce83a-3b78-45cf-8385-b6ae897e7b9b",
   "metadata": {},
   "outputs": [],
   "source": [
    "columns_to_import = ['Name', 'Percentage']  # First and last column names"
   ]
  },
  {
   "cell_type": "code",
   "execution_count": null,
   "id": "c36e2550-d40c-4266-824c-31ce82d6ec87",
   "metadata": {},
   "outputs": [],
   "source": [
    "rows_to_skip = [1]"
   ]
  },
  {
   "cell_type": "code",
   "execution_count": null,
   "id": "270b60cb-120c-4e21-90c8-cd43f7f65987",
   "metadata": {},
   "outputs": [],
   "source": [
    "df = pd.read_excel('SampleWork.xlsx', sheet_name=0, usecols=columns_to_import, skiprows=rows_to_skip)"
   ]
  },
  {
   "cell_type": "code",
   "execution_count": null,
   "id": "1e31ebbd-19fd-4d8f-9a51-ad277234ce2e",
   "metadata": {},
   "outputs": [],
   "source": [
    "header_row = pd.read_excel('SampleWork.xlsx', sheet_name=0, nrows=1, header=None)\n",
    "df.columns = header_row.iloc[1]"
   ]
  },
  {
   "cell_type": "code",
   "execution_count": null,
   "id": "eb95e186-645e-4ebf-87a4-37cbf07112a9",
   "metadata": {},
   "outputs": [],
   "source": [
    "df.to_excel('NewSampleWork.xlsx', index=False)"
   ]
  }
 ],
 "metadata": {
  "kernelspec": {
   "display_name": "Python 3 (ipykernel)",
   "language": "python",
   "name": "python3"
  },
  "language_info": {
   "codemirror_mode": {
    "name": "ipython",
    "version": 3
   },
   "file_extension": ".py",
   "mimetype": "text/x-python",
   "name": "python",
   "nbconvert_exporter": "python",
   "pygments_lexer": "ipython3",
   "version": "3.11.1"
  }
 },
 "nbformat": 4,
 "nbformat_minor": 5
}
